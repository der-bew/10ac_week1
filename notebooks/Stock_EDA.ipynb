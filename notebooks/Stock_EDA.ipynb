{
 "cells": [
  {
   "cell_type": "markdown",
   "id": "0853fba2-e17d-4026-a9ef-3b648a46d755",
   "metadata": {},
   "source": [
    "<h1 align=\"center\"> Project: Sentiment Analysis and Correlation Analysis</h1>"
   ]
  },
  {
   "cell_type": "markdown",
   "id": "af9af31f-3781-4580-85e1-bd9a05d85f2d",
   "metadata": {},
   "source": [
    "# Introduction\n",
    "This project focuses on the detailed analysis of a large corpus of financial news data to discover correlations between news sentiment and stock market movements. The dataset for this project is FNSPID (Financial News and Stock Price Integration Dataset). It is a comprehensive financial dataset designed to enhance stock market predictions by combining quantitative and qualitative data.\n",
    "\n",
    "To conduct this project, I will use two datasets: one provided by 10 academy (raw_analyst_ratings.csv) and the other financial data downloaded using the `yfinance` library. I will utilize various Python modules to perform this analysis."
   ]
  },
  {
   "cell_type": "code",
   "execution_count": 1,
   "id": "4ca74611-c6b6-484e-9457-45185ac32e80",
   "metadata": {},
   "outputs": [],
   "source": [
    "# import reqiuared libraries\n",
    "import pandas as pd\n",
    "import numpy as np\n",
    "import matplotlib.pyplot as plt\n",
    "import seaborn as sns"
   ]
  },
  {
   "cell_type": "markdown",
   "id": "8cc4697a-2a5f-461d-b5f4-648fc0ff0ae5",
   "metadata": {},
   "source": [
    "# Data Gathering "
   ]
  },
  {
   "cell_type": "code",
   "execution_count": 2,
   "id": "07228970-bf15-465a-b1df-cc774606e515",
   "metadata": {},
   "outputs": [],
   "source": [
    "stock_df = pd.read_csv(\"../data/raw_analyst_ratings.csv\")"
   ]
  },
  {
   "cell_type": "markdown",
   "id": "968b0939-a2a6-4fa5-992c-869c407ba5ca",
   "metadata": {},
   "source": [
    "# Assessing Data"
   ]
  },
  {
   "cell_type": "markdown",
   "id": "5f7abda1-ccaa-49ec-8517-46cd3a0e89da",
   "metadata": {},
   "source": [
    "## Visual Assessement"
   ]
  },
  {
   "cell_type": "code",
   "execution_count": 3,
   "id": "0e6f33ee-8eb2-4118-8619-b5bd5a78493c",
   "metadata": {},
   "outputs": [
    {
     "data": {
      "text/html": [
       "<div>\n",
       "<style scoped>\n",
       "    .dataframe tbody tr th:only-of-type {\n",
       "        vertical-align: middle;\n",
       "    }\n",
       "\n",
       "    .dataframe tbody tr th {\n",
       "        vertical-align: top;\n",
       "    }\n",
       "\n",
       "    .dataframe thead th {\n",
       "        text-align: right;\n",
       "    }\n",
       "</style>\n",
       "<table border=\"1\" class=\"dataframe\">\n",
       "  <thead>\n",
       "    <tr style=\"text-align: right;\">\n",
       "      <th></th>\n",
       "      <th>Unnamed: 0</th>\n",
       "      <th>headline</th>\n",
       "      <th>url</th>\n",
       "      <th>publisher</th>\n",
       "      <th>date</th>\n",
       "      <th>stock</th>\n",
       "    </tr>\n",
       "  </thead>\n",
       "  <tbody>\n",
       "    <tr>\n",
       "      <th>0</th>\n",
       "      <td>0</td>\n",
       "      <td>Stocks That Hit 52-Week Highs On Friday</td>\n",
       "      <td>https://www.benzinga.com/news/20/06/16190091/s...</td>\n",
       "      <td>Benzinga Insights</td>\n",
       "      <td>2020-06-05 10:30:54-04:00</td>\n",
       "      <td>A</td>\n",
       "    </tr>\n",
       "    <tr>\n",
       "      <th>1</th>\n",
       "      <td>1</td>\n",
       "      <td>Stocks That Hit 52-Week Highs On Wednesday</td>\n",
       "      <td>https://www.benzinga.com/news/20/06/16170189/s...</td>\n",
       "      <td>Benzinga Insights</td>\n",
       "      <td>2020-06-03 10:45:20-04:00</td>\n",
       "      <td>A</td>\n",
       "    </tr>\n",
       "    <tr>\n",
       "      <th>2</th>\n",
       "      <td>2</td>\n",
       "      <td>71 Biggest Movers From Friday</td>\n",
       "      <td>https://www.benzinga.com/news/20/05/16103463/7...</td>\n",
       "      <td>Lisa Levin</td>\n",
       "      <td>2020-05-26 04:30:07-04:00</td>\n",
       "      <td>A</td>\n",
       "    </tr>\n",
       "    <tr>\n",
       "      <th>3</th>\n",
       "      <td>3</td>\n",
       "      <td>46 Stocks Moving In Friday's Mid-Day Session</td>\n",
       "      <td>https://www.benzinga.com/news/20/05/16095921/4...</td>\n",
       "      <td>Lisa Levin</td>\n",
       "      <td>2020-05-22 12:45:06-04:00</td>\n",
       "      <td>A</td>\n",
       "    </tr>\n",
       "    <tr>\n",
       "      <th>4</th>\n",
       "      <td>4</td>\n",
       "      <td>B of A Securities Maintains Neutral on Agilent...</td>\n",
       "      <td>https://www.benzinga.com/news/20/05/16095304/b...</td>\n",
       "      <td>Vick Meyer</td>\n",
       "      <td>2020-05-22 11:38:59-04:00</td>\n",
       "      <td>A</td>\n",
       "    </tr>\n",
       "    <tr>\n",
       "      <th>...</th>\n",
       "      <td>...</td>\n",
       "      <td>...</td>\n",
       "      <td>...</td>\n",
       "      <td>...</td>\n",
       "      <td>...</td>\n",
       "      <td>...</td>\n",
       "    </tr>\n",
       "    <tr>\n",
       "      <th>1407323</th>\n",
       "      <td>1413844</td>\n",
       "      <td>Top Narrow Based Indexes For August 29</td>\n",
       "      <td>https://www.benzinga.com/news/11/08/1888782/to...</td>\n",
       "      <td>Monica Gerson</td>\n",
       "      <td>2011-08-29 00:00:00</td>\n",
       "      <td>ZX</td>\n",
       "    </tr>\n",
       "    <tr>\n",
       "      <th>1407324</th>\n",
       "      <td>1413845</td>\n",
       "      <td>Recap: Wednesday's Top Percentage Gainers and ...</td>\n",
       "      <td>https://www.benzinga.com/news/earnings/11/06/1...</td>\n",
       "      <td>Benjamin Lee</td>\n",
       "      <td>2011-06-22 00:00:00</td>\n",
       "      <td>ZX</td>\n",
       "    </tr>\n",
       "    <tr>\n",
       "      <th>1407325</th>\n",
       "      <td>1413846</td>\n",
       "      <td>UPDATE: Oppenheimer Color on China Zenix Auto ...</td>\n",
       "      <td>https://www.benzinga.com/analyst-ratings/analy...</td>\n",
       "      <td>BenzingaStaffL</td>\n",
       "      <td>2011-06-21 00:00:00</td>\n",
       "      <td>ZX</td>\n",
       "    </tr>\n",
       "    <tr>\n",
       "      <th>1407326</th>\n",
       "      <td>1413847</td>\n",
       "      <td>Oppenheimer Initiates China Zenix At Outperfor...</td>\n",
       "      <td>https://www.benzinga.com/analyst-ratings/price...</td>\n",
       "      <td>Joe Young</td>\n",
       "      <td>2011-06-21 00:00:00</td>\n",
       "      <td>ZX</td>\n",
       "    </tr>\n",
       "    <tr>\n",
       "      <th>1407327</th>\n",
       "      <td>1413848</td>\n",
       "      <td>China Zenix Auto International Opens For Tradi...</td>\n",
       "      <td>https://www.benzinga.com/news/ipos/11/05/10789...</td>\n",
       "      <td>Allie Wickman</td>\n",
       "      <td>2011-05-12 00:00:00</td>\n",
       "      <td>ZX</td>\n",
       "    </tr>\n",
       "  </tbody>\n",
       "</table>\n",
       "<p>1407328 rows × 6 columns</p>\n",
       "</div>"
      ],
      "text/plain": [
       "         Unnamed: 0                                           headline  \\\n",
       "0                 0            Stocks That Hit 52-Week Highs On Friday   \n",
       "1                 1         Stocks That Hit 52-Week Highs On Wednesday   \n",
       "2                 2                      71 Biggest Movers From Friday   \n",
       "3                 3       46 Stocks Moving In Friday's Mid-Day Session   \n",
       "4                 4  B of A Securities Maintains Neutral on Agilent...   \n",
       "...             ...                                                ...   \n",
       "1407323     1413844             Top Narrow Based Indexes For August 29   \n",
       "1407324     1413845  Recap: Wednesday's Top Percentage Gainers and ...   \n",
       "1407325     1413846  UPDATE: Oppenheimer Color on China Zenix Auto ...   \n",
       "1407326     1413847  Oppenheimer Initiates China Zenix At Outperfor...   \n",
       "1407327     1413848  China Zenix Auto International Opens For Tradi...   \n",
       "\n",
       "                                                       url          publisher  \\\n",
       "0        https://www.benzinga.com/news/20/06/16190091/s...  Benzinga Insights   \n",
       "1        https://www.benzinga.com/news/20/06/16170189/s...  Benzinga Insights   \n",
       "2        https://www.benzinga.com/news/20/05/16103463/7...         Lisa Levin   \n",
       "3        https://www.benzinga.com/news/20/05/16095921/4...         Lisa Levin   \n",
       "4        https://www.benzinga.com/news/20/05/16095304/b...         Vick Meyer   \n",
       "...                                                    ...                ...   \n",
       "1407323  https://www.benzinga.com/news/11/08/1888782/to...      Monica Gerson   \n",
       "1407324  https://www.benzinga.com/news/earnings/11/06/1...       Benjamin Lee   \n",
       "1407325  https://www.benzinga.com/analyst-ratings/analy...     BenzingaStaffL   \n",
       "1407326  https://www.benzinga.com/analyst-ratings/price...          Joe Young   \n",
       "1407327  https://www.benzinga.com/news/ipos/11/05/10789...      Allie Wickman   \n",
       "\n",
       "                              date stock  \n",
       "0        2020-06-05 10:30:54-04:00     A  \n",
       "1        2020-06-03 10:45:20-04:00     A  \n",
       "2        2020-05-26 04:30:07-04:00     A  \n",
       "3        2020-05-22 12:45:06-04:00     A  \n",
       "4        2020-05-22 11:38:59-04:00     A  \n",
       "...                            ...   ...  \n",
       "1407323        2011-08-29 00:00:00    ZX  \n",
       "1407324        2011-06-22 00:00:00    ZX  \n",
       "1407325        2011-06-21 00:00:00    ZX  \n",
       "1407326        2011-06-21 00:00:00    ZX  \n",
       "1407327        2011-05-12 00:00:00    ZX  \n",
       "\n",
       "[1407328 rows x 6 columns]"
      ]
     },
     "execution_count": 3,
     "metadata": {},
     "output_type": "execute_result"
    }
   ],
   "source": [
    "stock_df"
   ]
  },
  {
   "cell_type": "markdown",
   "id": "fbada773-04b2-43c8-937a-aa98eb0384b7",
   "metadata": {},
   "source": [
    "There is one unnecessary column named \"Unnamed: 0"
   ]
  },
  {
   "cell_type": "markdown",
   "id": "88022941-19a7-49fc-842d-cf552ee02b49",
   "metadata": {},
   "source": [
    "## Programmatic Assessement"
   ]
  },
  {
   "cell_type": "code",
   "execution_count": 4,
   "id": "a1aacb40-c2ba-4bbc-a940-93e182355c23",
   "metadata": {},
   "outputs": [
    {
     "data": {
      "text/plain": [
       "Unnamed: 0    0\n",
       "headline      0\n",
       "url           0\n",
       "publisher     0\n",
       "date          0\n",
       "stock         0\n",
       "dtype: int64"
      ]
     },
     "execution_count": 4,
     "metadata": {},
     "output_type": "execute_result"
    }
   ],
   "source": [
    "stock_df.isna().sum()"
   ]
  },
  {
   "cell_type": "code",
   "execution_count": null,
   "id": "6ddd35a6-2994-47c8-a734-d91d58f038f9",
   "metadata": {},
   "outputs": [],
   "source": []
  },
  {
   "cell_type": "code",
   "execution_count": 5,
   "id": "9f7406f4-56c8-4f95-8e8d-b922cba13a1a",
   "metadata": {},
   "outputs": [
    {
     "data": {
      "text/plain": [
       "0"
      ]
     },
     "execution_count": 5,
     "metadata": {},
     "output_type": "execute_result"
    }
   ],
   "source": [
    "stock_df.duplicated().sum()"
   ]
  },
  {
   "cell_type": "code",
   "execution_count": 6,
   "id": "8095923c-0c3e-40a1-ad10-83efa3885c7f",
   "metadata": {},
   "outputs": [
    {
     "data": {
      "text/plain": [
       "Unnamed: 0     int64\n",
       "headline      object\n",
       "url           object\n",
       "publisher     object\n",
       "date          object\n",
       "stock         object\n",
       "dtype: object"
      ]
     },
     "execution_count": 6,
     "metadata": {},
     "output_type": "execute_result"
    }
   ],
   "source": [
    "stock_df.dtypes"
   ]
  },
  {
   "cell_type": "markdown",
   "id": "a6383f19-13ad-4796-8bdb-2d529809cb4b",
   "metadata": {},
   "source": [
    "The `date` column contains an erroneous data type."
   ]
  },
  {
   "cell_type": "markdown",
   "id": "bc78c2b5-0233-4dc7-9330-b119ac7452b5",
   "metadata": {},
   "source": [
    "## Quality issues\n",
    "1. There is one unnecessary column named `Unnamed: 0`.\n",
    "2. The `date` column contains an erroneous data type."
   ]
  },
  {
   "cell_type": "markdown",
   "id": "ee2341bb-84c5-48f0-950e-4a1b3f18f4c2",
   "metadata": {},
   "source": [
    "# Data Cleaning\n",
    "## Quality issues"
   ]
  },
  {
   "cell_type": "code",
   "execution_count": 7,
   "id": "fabd5216-7038-4947-94f1-6df97fcc5d21",
   "metadata": {},
   "outputs": [],
   "source": [
    "# make copy\n",
    "stock_df_copy = stock_df.copy()"
   ]
  },
  {
   "cell_type": "markdown",
   "id": "a7402b6c-5214-4504-9290-47449a5feea2",
   "metadata": {},
   "source": [
    "### Issue #1\n",
    "There is one unnecessary column named Unnamed: 0"
   ]
  },
  {
   "cell_type": "markdown",
   "id": "d4edb6da-ce80-47d1-a28b-33715cfeeec5",
   "metadata": {},
   "source": [
    "### Define\n",
    "Unnamed:0 column is unnecessary for my analysis, so I use pandas `drop` method to remove this column from the data. "
   ]
  },
  {
   "cell_type": "markdown",
   "id": "5c08da36-7265-4824-a7ae-b23d7a324785",
   "metadata": {},
   "source": [
    "### Code"
   ]
  },
  {
   "cell_type": "code",
   "execution_count": 11,
   "id": "acb61a22-c0f0-4144-9f7e-e64c97e29524",
   "metadata": {},
   "outputs": [
    {
     "ename": "KeyError",
     "evalue": "\"['Unnamed: 0'] not found in axis\"",
     "output_type": "error",
     "traceback": [
      "\u001b[0;31m---------------------------------------------------------------------------\u001b[0m",
      "\u001b[0;31mKeyError\u001b[0m                                  Traceback (most recent call last)",
      "Cell \u001b[0;32mIn[11], line 1\u001b[0m\n\u001b[0;32m----> 1\u001b[0m \u001b[43mstock_df_copy\u001b[49m\u001b[38;5;241;43m.\u001b[39;49m\u001b[43mdrop\u001b[49m\u001b[43m(\u001b[49m\u001b[38;5;124;43m'\u001b[39;49m\u001b[38;5;124;43mUnnamed: 0\u001b[39;49m\u001b[38;5;124;43m'\u001b[39;49m\u001b[43m,\u001b[49m\u001b[43m \u001b[49m\u001b[43maxis\u001b[49m\u001b[38;5;241;43m=\u001b[39;49m\u001b[38;5;241;43m1\u001b[39;49m\u001b[43m,\u001b[49m\u001b[43m \u001b[49m\u001b[43minplace\u001b[49m\u001b[38;5;241;43m=\u001b[39;49m\u001b[38;5;28;43;01mTrue\u001b[39;49;00m\u001b[43m)\u001b[49m\n",
      "File \u001b[0;32m~/Documents/10a/10ac_week1/week1_env/lib/python3.11/site-packages/pandas/core/frame.py:5581\u001b[0m, in \u001b[0;36mDataFrame.drop\u001b[0;34m(self, labels, axis, index, columns, level, inplace, errors)\u001b[0m\n\u001b[1;32m   5433\u001b[0m \u001b[38;5;28;01mdef\u001b[39;00m \u001b[38;5;21mdrop\u001b[39m(\n\u001b[1;32m   5434\u001b[0m     \u001b[38;5;28mself\u001b[39m,\n\u001b[1;32m   5435\u001b[0m     labels: IndexLabel \u001b[38;5;241m|\u001b[39m \u001b[38;5;28;01mNone\u001b[39;00m \u001b[38;5;241m=\u001b[39m \u001b[38;5;28;01mNone\u001b[39;00m,\n\u001b[0;32m   (...)\u001b[0m\n\u001b[1;32m   5442\u001b[0m     errors: IgnoreRaise \u001b[38;5;241m=\u001b[39m \u001b[38;5;124m\"\u001b[39m\u001b[38;5;124mraise\u001b[39m\u001b[38;5;124m\"\u001b[39m,\n\u001b[1;32m   5443\u001b[0m ) \u001b[38;5;241m-\u001b[39m\u001b[38;5;241m>\u001b[39m DataFrame \u001b[38;5;241m|\u001b[39m \u001b[38;5;28;01mNone\u001b[39;00m:\n\u001b[1;32m   5444\u001b[0m \u001b[38;5;250m    \u001b[39m\u001b[38;5;124;03m\"\"\"\u001b[39;00m\n\u001b[1;32m   5445\u001b[0m \u001b[38;5;124;03m    Drop specified labels from rows or columns.\u001b[39;00m\n\u001b[1;32m   5446\u001b[0m \n\u001b[0;32m   (...)\u001b[0m\n\u001b[1;32m   5579\u001b[0m \u001b[38;5;124;03m            weight  1.0     0.8\u001b[39;00m\n\u001b[1;32m   5580\u001b[0m \u001b[38;5;124;03m    \"\"\"\u001b[39;00m\n\u001b[0;32m-> 5581\u001b[0m     \u001b[38;5;28;01mreturn\u001b[39;00m \u001b[38;5;28;43msuper\u001b[39;49m\u001b[43m(\u001b[49m\u001b[43m)\u001b[49m\u001b[38;5;241;43m.\u001b[39;49m\u001b[43mdrop\u001b[49m\u001b[43m(\u001b[49m\n\u001b[1;32m   5582\u001b[0m \u001b[43m        \u001b[49m\u001b[43mlabels\u001b[49m\u001b[38;5;241;43m=\u001b[39;49m\u001b[43mlabels\u001b[49m\u001b[43m,\u001b[49m\n\u001b[1;32m   5583\u001b[0m \u001b[43m        \u001b[49m\u001b[43maxis\u001b[49m\u001b[38;5;241;43m=\u001b[39;49m\u001b[43maxis\u001b[49m\u001b[43m,\u001b[49m\n\u001b[1;32m   5584\u001b[0m \u001b[43m        \u001b[49m\u001b[43mindex\u001b[49m\u001b[38;5;241;43m=\u001b[39;49m\u001b[43mindex\u001b[49m\u001b[43m,\u001b[49m\n\u001b[1;32m   5585\u001b[0m \u001b[43m        \u001b[49m\u001b[43mcolumns\u001b[49m\u001b[38;5;241;43m=\u001b[39;49m\u001b[43mcolumns\u001b[49m\u001b[43m,\u001b[49m\n\u001b[1;32m   5586\u001b[0m \u001b[43m        \u001b[49m\u001b[43mlevel\u001b[49m\u001b[38;5;241;43m=\u001b[39;49m\u001b[43mlevel\u001b[49m\u001b[43m,\u001b[49m\n\u001b[1;32m   5587\u001b[0m \u001b[43m        \u001b[49m\u001b[43minplace\u001b[49m\u001b[38;5;241;43m=\u001b[39;49m\u001b[43minplace\u001b[49m\u001b[43m,\u001b[49m\n\u001b[1;32m   5588\u001b[0m \u001b[43m        \u001b[49m\u001b[43merrors\u001b[49m\u001b[38;5;241;43m=\u001b[39;49m\u001b[43merrors\u001b[49m\u001b[43m,\u001b[49m\n\u001b[1;32m   5589\u001b[0m \u001b[43m    \u001b[49m\u001b[43m)\u001b[49m\n",
      "File \u001b[0;32m~/Documents/10a/10ac_week1/week1_env/lib/python3.11/site-packages/pandas/core/generic.py:4788\u001b[0m, in \u001b[0;36mNDFrame.drop\u001b[0;34m(self, labels, axis, index, columns, level, inplace, errors)\u001b[0m\n\u001b[1;32m   4786\u001b[0m \u001b[38;5;28;01mfor\u001b[39;00m axis, labels \u001b[38;5;129;01min\u001b[39;00m axes\u001b[38;5;241m.\u001b[39mitems():\n\u001b[1;32m   4787\u001b[0m     \u001b[38;5;28;01mif\u001b[39;00m labels \u001b[38;5;129;01mis\u001b[39;00m \u001b[38;5;129;01mnot\u001b[39;00m \u001b[38;5;28;01mNone\u001b[39;00m:\n\u001b[0;32m-> 4788\u001b[0m         obj \u001b[38;5;241m=\u001b[39m \u001b[43mobj\u001b[49m\u001b[38;5;241;43m.\u001b[39;49m\u001b[43m_drop_axis\u001b[49m\u001b[43m(\u001b[49m\u001b[43mlabels\u001b[49m\u001b[43m,\u001b[49m\u001b[43m \u001b[49m\u001b[43maxis\u001b[49m\u001b[43m,\u001b[49m\u001b[43m \u001b[49m\u001b[43mlevel\u001b[49m\u001b[38;5;241;43m=\u001b[39;49m\u001b[43mlevel\u001b[49m\u001b[43m,\u001b[49m\u001b[43m \u001b[49m\u001b[43merrors\u001b[49m\u001b[38;5;241;43m=\u001b[39;49m\u001b[43merrors\u001b[49m\u001b[43m)\u001b[49m\n\u001b[1;32m   4790\u001b[0m \u001b[38;5;28;01mif\u001b[39;00m inplace:\n\u001b[1;32m   4791\u001b[0m     \u001b[38;5;28mself\u001b[39m\u001b[38;5;241m.\u001b[39m_update_inplace(obj)\n",
      "File \u001b[0;32m~/Documents/10a/10ac_week1/week1_env/lib/python3.11/site-packages/pandas/core/generic.py:4830\u001b[0m, in \u001b[0;36mNDFrame._drop_axis\u001b[0;34m(self, labels, axis, level, errors, only_slice)\u001b[0m\n\u001b[1;32m   4828\u001b[0m         new_axis \u001b[38;5;241m=\u001b[39m axis\u001b[38;5;241m.\u001b[39mdrop(labels, level\u001b[38;5;241m=\u001b[39mlevel, errors\u001b[38;5;241m=\u001b[39merrors)\n\u001b[1;32m   4829\u001b[0m     \u001b[38;5;28;01melse\u001b[39;00m:\n\u001b[0;32m-> 4830\u001b[0m         new_axis \u001b[38;5;241m=\u001b[39m \u001b[43maxis\u001b[49m\u001b[38;5;241;43m.\u001b[39;49m\u001b[43mdrop\u001b[49m\u001b[43m(\u001b[49m\u001b[43mlabels\u001b[49m\u001b[43m,\u001b[49m\u001b[43m \u001b[49m\u001b[43merrors\u001b[49m\u001b[38;5;241;43m=\u001b[39;49m\u001b[43merrors\u001b[49m\u001b[43m)\u001b[49m\n\u001b[1;32m   4831\u001b[0m     indexer \u001b[38;5;241m=\u001b[39m axis\u001b[38;5;241m.\u001b[39mget_indexer(new_axis)\n\u001b[1;32m   4833\u001b[0m \u001b[38;5;66;03m# Case for non-unique axis\u001b[39;00m\n\u001b[1;32m   4834\u001b[0m \u001b[38;5;28;01melse\u001b[39;00m:\n",
      "File \u001b[0;32m~/Documents/10a/10ac_week1/week1_env/lib/python3.11/site-packages/pandas/core/indexes/base.py:7070\u001b[0m, in \u001b[0;36mIndex.drop\u001b[0;34m(self, labels, errors)\u001b[0m\n\u001b[1;32m   7068\u001b[0m \u001b[38;5;28;01mif\u001b[39;00m mask\u001b[38;5;241m.\u001b[39many():\n\u001b[1;32m   7069\u001b[0m     \u001b[38;5;28;01mif\u001b[39;00m errors \u001b[38;5;241m!=\u001b[39m \u001b[38;5;124m\"\u001b[39m\u001b[38;5;124mignore\u001b[39m\u001b[38;5;124m\"\u001b[39m:\n\u001b[0;32m-> 7070\u001b[0m         \u001b[38;5;28;01mraise\u001b[39;00m \u001b[38;5;167;01mKeyError\u001b[39;00m(\u001b[38;5;124mf\u001b[39m\u001b[38;5;124m\"\u001b[39m\u001b[38;5;132;01m{\u001b[39;00mlabels[mask]\u001b[38;5;241m.\u001b[39mtolist()\u001b[38;5;132;01m}\u001b[39;00m\u001b[38;5;124m not found in axis\u001b[39m\u001b[38;5;124m\"\u001b[39m)\n\u001b[1;32m   7071\u001b[0m     indexer \u001b[38;5;241m=\u001b[39m indexer[\u001b[38;5;241m~\u001b[39mmask]\n\u001b[1;32m   7072\u001b[0m \u001b[38;5;28;01mreturn\u001b[39;00m \u001b[38;5;28mself\u001b[39m\u001b[38;5;241m.\u001b[39mdelete(indexer)\n",
      "\u001b[0;31mKeyError\u001b[0m: \"['Unnamed: 0'] not found in axis\""
     ]
    }
   ],
   "source": [
    "stock_df_copy.drop('Unnamed: 0', axis=1, inplace=True)"
   ]
  },
  {
   "cell_type": "markdown",
   "id": "2631b218-c28d-4a2e-906c-c6b92a79b03a",
   "metadata": {},
   "source": [
    "### Test"
   ]
  },
  {
   "cell_type": "code",
   "execution_count": 13,
   "id": "082ee28d-5385-47dc-a5cd-b4fda026752f",
   "metadata": {},
   "outputs": [
    {
     "data": {
      "text/plain": [
       "Index(['headline', 'url', 'publisher', 'date', 'stock'], dtype='object')"
      ]
     },
     "execution_count": 13,
     "metadata": {},
     "output_type": "execute_result"
    }
   ],
   "source": [
    "stock_df_copy.columns"
   ]
  },
  {
   "cell_type": "markdown",
   "id": "9fed72ee-69d4-4596-87d2-2b46bcc07f16",
   "metadata": {},
   "source": [
    "### Issue #2\n",
    "The date column contains an erroneous data type."
   ]
  },
  {
   "cell_type": "markdown",
   "id": "18f5edfb-48b8-476d-8002-3ca79a31f1e6",
   "metadata": {},
   "source": [
    "### Define\n",
    "The date column is an object data type but it should be datetime data type, I use `to_datetime` pandas method to convert the object type into datetime."
   ]
  },
  {
   "cell_type": "markdown",
   "id": "595b9149-181c-4ace-b255-f398a30c02cd",
   "metadata": {},
   "source": [
    "### Code"
   ]
  },
  {
   "cell_type": "code",
   "execution_count": 14,
   "id": "832e760d-5107-458d-867c-1c48976fcc94",
   "metadata": {},
   "outputs": [],
   "source": [
    "#remove -4:00 from the dataset\n",
    "stock_df_copy['date']=stock_df_copy['date'].str.rstrip('-04:00')\n",
    "\n",
    "# convert data type and format\n",
    "stock_df_copy['date'] = pd.to_datetime(stock_df_copy.date, format='mixed', errors='coerce').dt.strftime('%Y-%m-%d')\n",
    "stock_df_copy['date'] = pd.to_datetime(stock_df_copy.date)"
   ]
  },
  {
   "cell_type": "code",
   "execution_count": 17,
   "id": "d09e6a16-ba33-4b7e-aee5-88f81438881e",
   "metadata": {},
   "outputs": [],
   "source": [
    "stock_df_copy.dropna(inplace=True)"
   ]
  },
  {
   "cell_type": "markdown",
   "id": "e9866854-f48a-4127-b13f-ca2a43db3f2a",
   "metadata": {},
   "source": [
    "### Test"
   ]
  },
  {
   "cell_type": "code",
   "execution_count": 18,
   "id": "b3b17379-a4ac-4046-ae9f-cea709602aae",
   "metadata": {},
   "outputs": [
    {
     "name": "stdout",
     "output_type": "stream",
     "text": [
      "<class 'pandas.core.frame.DataFrame'>\n",
      "Index: 1407287 entries, 0 to 1407327\n",
      "Data columns (total 5 columns):\n",
      " #   Column     Non-Null Count    Dtype         \n",
      "---  ------     --------------    -----         \n",
      " 0   headline   1407287 non-null  object        \n",
      " 1   url        1407287 non-null  object        \n",
      " 2   publisher  1407287 non-null  object        \n",
      " 3   date       1407287 non-null  datetime64[ns]\n",
      " 4   stock      1407287 non-null  object        \n",
      "dtypes: datetime64[ns](1), object(4)\n",
      "memory usage: 64.4+ MB\n"
     ]
    }
   ],
   "source": [
    "stock_df_copy.info()"
   ]
  },
  {
   "cell_type": "markdown",
   "id": "55ae16b6-49d2-488e-8556-dfe954fe2f48",
   "metadata": {},
   "source": [
    "# Analysis and Visualization"
   ]
  },
  {
   "cell_type": "markdown",
   "id": "9a308dd5-5b34-432b-8fb5-b19ac2773607",
   "metadata": {},
   "source": [
    "## Descriptive Statistics\n",
    "1. Obtain basic statistics for textual lengths (like headline length).\n"
   ]
  },
  {
   "cell_type": "code",
   "execution_count": 19,
   "id": "9c0f9496-a21b-4d36-9512-429bc952b087",
   "metadata": {},
   "outputs": [
    {
     "name": "stdout",
     "output_type": "stream",
     "text": [
      "Average Headline Length: 73.12\n"
     ]
    }
   ],
   "source": [
    "# Calculate the average headline length\n",
    "average_headline_length = stock_df_copy['headline'].str.len().mean()\n",
    "print(\"Average Headline Length: {:.2f}\".format(average_headline_length))"
   ]
  },
  {
   "cell_type": "markdown",
   "id": "92593a16-994a-4b7b-b94d-7cf4e8fcb803",
   "metadata": {},
   "source": [
    "The average headline length is `73.12`."
   ]
  },
  {
   "cell_type": "markdown",
   "id": "791014c9-b52e-4bb8-a7fc-1841c19f9266",
   "metadata": {},
   "source": [
    "2. Count the number of articles per publisher to identify which publishers are most active."
   ]
  },
  {
   "cell_type": "code",
   "execution_count": 20,
   "id": "d6e19bfc-eb71-40a2-94a2-e636990c09e2",
   "metadata": {},
   "outputs": [
    {
     "data": {
      "text/plain": [
       "publisher\n",
       "Paul Quintaro                      228372\n",
       "Lisa Levin                         186975\n",
       "Benzinga Newsdesk                  150476\n",
       "Charles Gross                       96732\n",
       "Monica Gerson                       82380\n",
       "                                    ...  \n",
       "Shazir Mucklai - Imperium Group         1\n",
       "Laura Jennings                          1\n",
       "Eric Martin                             1\n",
       "Jose Rodrigo                            1\n",
       "Jeremie Capron                          1\n",
       "Name: count, Length: 1034, dtype: int64"
      ]
     },
     "execution_count": 20,
     "metadata": {},
     "output_type": "execute_result"
    }
   ],
   "source": [
    "# Count articles per publisher\n",
    "stock_df_copy['publisher'].value_counts()"
   ]
  },
  {
   "cell_type": "code",
   "execution_count": 30,
   "id": "c72ac870-8f46-46de-bc6b-0e4e110c2398",
   "metadata": {},
   "outputs": [
    {
     "data": {
      "text/plain": [
       "Text(0, 0.5, 'Number of Articles')"
      ]
     },
     "execution_count": 30,
     "metadata": {},
     "output_type": "execute_result"
    },
    {
     "data": {
      "image/png": "[encoded data removed]",
      "text/plain": [
       "<Figure size 1000x600 with 1 Axes>"
      ]
     },
     "metadata": {},
     "output_type": "display_data"
    }
   ],
   "source": [
    "# plot top 10 publishers\n",
    "df = stock_df['publisher'].value_counts().reset_index().sort_values(by='count', ascending=False).head(10)\n",
    "plt.figure(figsize=(10, 6))\n",
    "sns.barplot(x = 'publisher', y = 'count', data=df)\n",
    "plt.title('Top 10 Publishers')\n",
    "plt.xlabel('Names of the Publisher')\n",
    "plt.xticks(rotation=50)\n",
    "plt.ylabel('Number of Articles')"
   ]
  },
  {
   "cell_type": "markdown",
   "id": "3ebc4c31-53d4-4642-9a76-c40c979914e9",
   "metadata": {},
   "source": [
    "The above bar plot shows the top 10 publishers based on the dataset. Paul Quintaro has the highest count at 228,372, suggesting he is the most prolific publisher among the listed ones, contributing significantly to the dataset. Lisa Levin follows with a count of 186,975, making her the second most prolific publisher, indicating a substantial presence in the dataset. Benzinga Newsdesk comes in third with a count of 150,476, further highlighting its significant contribution.\n"
   ]
  },
  {
   "cell_type": "markdown",
   "id": "598b73e0-a196-4740-ab07-196cfbb4f272",
   "metadata": {},
   "source": [
    "3. Analyze the publication dates to see trends over time, such as increased news frequency on particular days or during specific events."
   ]
  },
  {
   "cell_type": "code",
   "execution_count": 41,
   "id": "664230ec-b83d-4e10-8e77-a21ba07d207e",
   "metadata": {},
   "outputs": [],
   "source": [
    "df = stock_df_copy.copy()\n",
    "df = df.set_index(pd.DatetimeIndex(df['date']))\n",
    "df1 = df.resample('YE').size()"
   ]
  },
  {
   "cell_type": "code",
   "execution_count": 42,
   "id": "9de4396d-f1cf-4feb-b054-9aa51510b926",
   "metadata": {},
   "outputs": [
    {
     "data": {
      "text/plain": [
       "Text(0, 0.5, 'Number of Articles')"
      ]
     },
     "execution_count": 42,
     "metadata": {},
     "output_type": "execute_result"
    },
    {
     "data": {
      "image/png": "[encoded data removed]",
      "text/plain": [
       "<Figure size 2000x600 with 1 Axes>"
      ]
     },
     "metadata": {},
     "output_type": "display_data"
    }
   ],
   "source": [
    "plt.figure(figsize=(20, 6))\n",
    "sns.lineplot(data=df1)\n",
    "sns.set(style='darkgrid')\n",
    "plt.title('Articles Published Over Time')\n",
    "plt.xlabel('Date (year)')\n",
    "plt.xticks(rotation=50)\n",
    "plt.yticks([20000, 40000, 60000, 80000, 100000, 120000, 140000], ['20k', '40k','60k', '80k', '100k', '120k', '140k'])\n",
    "plt.ylabel('Number of Articles')"
   ]
  },
  {
   "cell_type": "code",
   "execution_count": null,
   "id": "920f15cc-27b5-43db-b6bd-b505781fbaa8",
   "metadata": {},
   "outputs": [],
   "source": []
  }
 ],
 "metadata": {
  "kernelspec": {
   "display_name": "Python 3 (ipykernel)",
   "language": "python",
   "name": "python3"
  },
  "language_info": {
   "codemirror_mode": {
    "name": "ipython",
    "version": 3
   },
   "file_extension": ".py",
   "mimetype": "text/x-python",
   "name": "python",
   "nbconvert_exporter": "python",
   "pygments_lexer": "ipython3",
   "version": "3.11.6"
  }
 },
 "nbformat": 4,
 "nbformat_minor": 5
}
